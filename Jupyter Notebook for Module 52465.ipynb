{
 "cells": [
  {
   "cell_type": "markdown",
   "metadata": {},
   "source": [
    "# numpy.random package"
   ]
  },
  {
   "cell_type": "markdown",
   "metadata": {},
   "source": [
    "#### In this Jupyter Notebook I intend to explain the use of the numpy.random package as part of an assignment for this module.\n"
   ]
  },
  {
   "cell_type": "markdown",
   "metadata": {},
   "source": [
    "To initialy get my head around how the Jupyter Notebook works I followed Ian's example from the 'numpy.random docs' video on Moodle, and amended the code slightly to produce a different result. I applied the knowledge from an online source referred to by Ian - https://docs.scipy.org/doc/numpy-1.15.1/reference/routines.random.html - and utilised the code 'rand' from this source whch is used to generate 'Random values in a given shape'. My results are shown below;"
   ]
  },
  {
   "cell_type": "code",
   "execution_count": 1,
   "metadata": {},
   "outputs": [],
   "source": [
    "import numpy as np"
   ]
  },
  {
   "cell_type": "code",
   "execution_count": 7,
   "metadata": {},
   "outputs": [
    {
     "data": {
      "text/plain": [
       "array([[[0.74587623, 0.39820034, 0.05689761, 0.80348064, 0.61506251],\n",
       "        [0.9288363 , 0.62312357, 0.42531836, 0.99979165, 0.23076853]],\n",
       "\n",
       "       [[0.06729424, 0.21117458, 0.21698791, 0.71451403, 0.9876162 ],\n",
       "        [0.95416815, 0.69503263, 0.12989598, 0.11422235, 0.64277163]],\n",
       "\n",
       "       [[0.31760602, 0.78675748, 0.07064433, 0.8293661 , 0.65198261],\n",
       "        [0.08536236, 0.27525669, 0.54481786, 0.11842335, 0.54897548]]])"
      ]
     },
     "execution_count": 7,
     "metadata": {},
     "output_type": "execute_result"
    }
   ],
   "source": [
    "np.random.rand(3,2,5)"
   ]
  },
  {
   "cell_type": "markdown",
   "metadata": {},
   "source": [
    "#### The 4 tasks which I intend to carry out in this Jupyter notebook;\n",
    "1.\tExplain the overall purpose of the package.\n",
    "2.\tExplain the use of “Simple random data” and “Permutations” functions.\n",
    "3.\tExplain the use and purpose of at least five “Distribution” functions.\n",
    "4.\tExplain the use of seeds in generating pseudorandom numbers.\n"
   ]
  },
  {
   "cell_type": "markdown",
   "metadata": {},
   "source": [
    "I tried to bear the above in mind while reviewing the videos.\n",
    "\n",
    "### 1.\tExplain the overall purpose of the numpy.random package.\n",
    "\n",
    "numpy.random is a package for generating random data in Python.\n",
    "\n",
    "I learned from Ian’s videos on Moodle that the numpy.random package is a sub package of the numpy package in Python. A lot of other packages depend on numpy, but not many interact with it directly, mainly interact with it through other packages.\n",
    "\n",
    "Numpy.random is mainly to do with generating random numbers. Computers can’t generate random numbers – they can only generate pseudorandom numbers (for the time being!). There are a lot of different ways to generate different pseudorandom numbers.\n",
    "\n",
    "Ian was observing the following webpage in the video; https://docs.scipy.org\n",
    "\n",
    "##### What is NumPy?\n",
    "\n",
    "*NumPy is the fundamental package for scientific computing in Python. It is a Python library that provides a multidimensional array object, various derived objects (such as masked arrays and matrices), and an assortment of routines for fast operations on arrays, including mathematical, logical, shape manipulation, sorting, selecting, I/O, discrete Fourier transforms, basic linear algebra, basic statistical operations, random simulation and much more.*\n",
    "(Reference: https://docs.scipy.org)\n",
    "\n",
    "I learned that NumPy is exceptionally quick at dealing with numbers in long lists in Python – even lists contained within lists!\n",
    "\n",
    "NumPy is a specialist package which deals with multidimensional arrays – it liked 2D/rectangular lists. It knows how to complete operations on the lists/arrays quickly. It has algorithms built into it. \n",
    "\n",
    "Typically we don’t create arrays in numpy, we use different packages such as numpy.random. \n",
    "\n",
    "Ian informed us in his video ‘Introduction to numpy’ that an example of one of the uses of numpy is a task which I complete regularly - resizing a photo, making it smaller, on my PC. The matrix operations behind this are usually linked with numpy, as it knows how to complete these operations quickly.\n",
    "\n",
    "Setting up numpy.random repository video;\n",
    "Note: Ian advised that we should shut down Jupyter before making any amendments in Git to prevent avoidable issues.\n",
    "\n",
    "I learned from my research online that;\n",
    "*An important part of any simulation is the ability to generate random numbers. For this purpose, NumPy provides various routines in the submodule random. It uses a particular algorithm, called the Mersenne Twister, to generate pseudorandom numbers.\n",
    "First, we need to define a seed that makes the random numbers predictable. When the value is reset, the same numbers will appear every time. If we do not assign the seed, NumPy automatically selects a random seed value based on the system's random number generator device or on the clock*:\n",
    "\n",
    "Copy\n",
    ">>> np.random.seed(20)\n",
    "\n",
    "(Reference: https://www.packtpub.com)\n"
   ]
  },
  {
   "cell_type": "markdown",
   "metadata": {},
   "source": [
    "### 2.\tExplain the use of “Simple random data” and “Permutations” functions.\n",
    "\n",
    "I researched this online and took the below information from https://docs.scipy.org;\n",
    "\n",
    "##### Permutations  \n",
    "*Randomly permute a sequence, or return a permuted range.*\n",
    "\n",
    "If x is a multi-dimensional array, it is only shuffled along its first index.\n",
    "\n",
    "Parameters:\n",
    "x : int or array_like\n",
    "If x is an integer, randomly permute np.arange(x). If x is an array, make a copy and shuffle the elements randomly.\n",
    " \n",
    "Returns:\n",
    "out : ndarray\n",
    "Permuted sequence or array range.\n",
    "\n",
    "On the video on Moodle named ‘numpy.random docs’ Ian stated that the Permutation section has 2 functions – one called ‘Shuffle’ and one called ‘Permutation’. \n",
    "They do similar things but Shuffle changes a numpy array which is already in place, whereas permutation doesn’t change what you pass into it. \n",
    "\n",
    "To Do: I should paste ‘permutaion’ & ‘shuffle’ into my Jupyter notebook in the same way in which Ian completed this for ‘rand’ and see what the outcome is.\n",
    "\n",
    "##### Simple Random Data\n",
    "*Used to generate random values in a given shape.*\n",
    "Reference: https://www.gaussianwaves.com\n",
    "\n",
    "An example of this is given below;\n"
   ]
  },
  {
   "cell_type": "code",
   "execution_count": 5,
   "metadata": {},
   "outputs": [],
   "source": [
    "import numpy as np"
   ]
  },
  {
   "cell_type": "code",
   "execution_count": 6,
   "metadata": {},
   "outputs": [
    {
     "data": {
      "text/plain": [
       "array([[[0.10725744, 0.35395969, 0.75999121, 0.61280971, 0.91609332],\n",
       "        [0.52276847, 0.70140487, 0.12671179, 0.14490461, 0.83766987]],\n",
       "\n",
       "       [[0.12848813, 0.03754388, 0.43680506, 0.74440567, 0.34005425],\n",
       "        [0.73957052, 0.5752561 , 0.64169654, 0.10871334, 0.90349609]],\n",
       "\n",
       "       [[0.82022198, 0.36866667, 0.28520431, 0.1223283 , 0.0040476 ],\n",
       "        [0.08486315, 0.44209301, 0.02927438, 0.20084771, 0.56169999]]])"
      ]
     },
     "execution_count": 6,
     "metadata": {},
     "output_type": "execute_result"
    }
   ],
   "source": [
    "np.random.rand(3,2,5)"
   ]
  },
  {
   "cell_type": "markdown",
   "metadata": {},
   "source": [
    "### 3.\tExplain the use and purpose of at least five “Distribution” functions.\n",
    "\n",
    "Ian advised in the video on Moodle named ‘numpy.random docs’ that Distribution has different functions which relates to different probability distributions. Sometimes you may want to generate numbers which are not your typical random numbers.\n",
    "I decided to explain the use & purpose of the following 5 ‘Distribution’ functions;\n",
    "\n",
    "##### 1.\tUniform Distribution - \n",
    "\n",
    "Ian mentioned in Moodle video ‘Distributions’ that ‘Uniform’ implies that every number in the interval [0, 1) including 0 but not including 1 – has the same/equal chance of being generated.\n",
    "\n",
    "I reviewed https://www.gaussianwaves.com and learned that Uniform Distribution is used for the following purpose;\n",
    "\n",
    "*Continuous Uniform Random Variables are used to model a scenario where a continuous random variable can take values that are equally distributed (with equal probability) in an interval. Uniform distribution is the underlying distribution to model such random variables.*\n",
    "\n",
    "\n",
    "\n"
   ]
  },
  {
   "cell_type": "code",
   "execution_count": 9,
   "metadata": {},
   "outputs": [
    {
     "data": {
      "text/plain": [
       "array([-0.6261935 , -0.3605155 , -0.74376235, -0.54742423, -0.26957891,\n",
       "       -0.16498661, -0.78084532, -0.00099696, -0.6556655 , -0.69665259])"
      ]
     },
     "execution_count": 9,
     "metadata": {},
     "output_type": "execute_result"
    }
   ],
   "source": [
    "np.random.uniform(-1,0,10)"
   ]
  },
  {
   "cell_type": "markdown",
   "metadata": {},
   "source": [
    "##### 2.\tLogistic Distribution – \n",
    "*Draw samples from a logistic distribution.\n",
    "Samples are drawn from a logistic distribution with specified parameters, loc (location or mean, also median), and scale (>0).\n",
    "The Logistic distribution is used in Extreme Value problems where it can act as a mixture of Gumbel distributions, in Epidemiology, and by the World Chess Federation (FIDE) where it is used in the Elo ranking system, assuming the performance of each player is a logistically distributed random variable.*\n",
    "Reference: https://www.gaussianwaves.com"
   ]
  },
  {
   "cell_type": "markdown",
   "metadata": {},
   "source": [
    "##### 3.\tGeometric Distribution – \n",
    "*Draw samples from the geometric distribution.\n",
    "Bernoulli trials are experiments with one of two outcomes: success or failure (an example of such an experiment is flipping a coin). The geometric distribution models the number of trials that must be run in order to achieve success.*\n",
    "Reference: https://www.gaussianwaves.com\n",
    "\n",
    "##### 4.\tMultinomial Distribution – \n",
    "*The multinomial distribution is a multivariate generalisation of the binomial distribution. Take an experiment with one of p possible outcomes. An example of such an experiment is throwing a dice, where the outcome can be 1 through 6. Each sample drawn from the distribution represents n such experiments. Its values, X_i = [X_0, X_1, ..., X_p], represent the number of times the outcome was i.*\n",
    "Reference: https://www.gaussianwaves.com\n",
    "\n",
    "##### 5.\tNormal Distribution - \n",
    "*Draw random samples from a normal (Gaussian) distribution.\n",
    "\n",
    "*The probability density function of the normal distribution, first derived by De Moivre and 200 years later by both Gauss and Laplace independently [2], is often called the bell curve because of its characteristic shape (see the example below).\n",
    "\n",
    "*The normal distributions occurs often in nature. For example, it describes the commonly occurring distribution of samples influenced by a large number of tiny, random disturbances, each with its own unique distribution [2].*\n",
    "Reference: https://www.gaussianwaves.com\n"
   ]
  },
  {
   "cell_type": "markdown",
   "metadata": {},
   "source": [
    "### 4.\tExplain the use of seeds in generating pseudorandom numbers.\n",
    "\n",
    "*A random seed (or seed state, or just seed) is a number (or vector) used to initialize a pseudorandom number generator. For a seed to be used in a pseudorandom number generator, it does not need to be random.*\n",
    "Reference: https://en.wikipedia.org/wiki/Random_seed\n",
    "\n",
    "Ian stated that computers can’t generate random numbers in the ‘Seeds’ video on Moodle. Computers need a mechanism to generate random numbers. If you’re generating a random number on a computer, you’re really generating a pseudorandom number – it looks random, but it is actually predictable if you have the key piece of information used by the computer, known as the ‘seed’. The numbers generated are based on that seed.\n",
    "\n"
   ]
  },
  {
   "cell_type": "code",
   "execution_count": null,
   "metadata": {},
   "outputs": [],
   "source": []
  }
 ],
 "metadata": {
  "kernelspec": {
   "display_name": "Python 3",
   "language": "python",
   "name": "python3"
  },
  "language_info": {
   "codemirror_mode": {
    "name": "ipython",
    "version": 3
   },
   "file_extension": ".py",
   "mimetype": "text/x-python",
   "name": "python",
   "nbconvert_exporter": "python",
   "pygments_lexer": "ipython3",
   "version": "3.6.4"
  }
 },
 "nbformat": 4,
 "nbformat_minor": 2
}
